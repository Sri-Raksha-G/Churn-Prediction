{
 "cells": [
  {
   "cell_type": "code",
   "execution_count": 118,
   "metadata": {},
   "outputs": [],
   "source": [
    "import sklearn\n",
    "from scipy import stats\n",
    "import pandas as pd\n",
    "import numpy as np\n",
    "import matplotlib.pyplot as plt\n",
    "import seaborn as snsb\n",
    "import warnings\n",
    "warnings.filterwarnings('ignore')"
   ]
  },
  {
   "cell_type": "code",
   "execution_count": 119,
   "metadata": {},
   "outputs": [
    {
     "data": {
      "text/html": [
       "<div>\n",
       "<style scoped>\n",
       "    .dataframe tbody tr th:only-of-type {\n",
       "        vertical-align: middle;\n",
       "    }\n",
       "\n",
       "    .dataframe tbody tr th {\n",
       "        vertical-align: top;\n",
       "    }\n",
       "\n",
       "    .dataframe thead th {\n",
       "        text-align: right;\n",
       "    }\n",
       "</style>\n",
       "<table border=\"1\" class=\"dataframe\">\n",
       "  <thead>\n",
       "    <tr style=\"text-align: right;\">\n",
       "      <th></th>\n",
       "      <th>id</th>\n",
       "      <th>user_id</th>\n",
       "      <th>vehicle_model_id</th>\n",
       "      <th>package_id</th>\n",
       "      <th>travel_type_id</th>\n",
       "      <th>from_area_id</th>\n",
       "      <th>to_area_id</th>\n",
       "      <th>from_city_id</th>\n",
       "      <th>to_city_id</th>\n",
       "      <th>from_date</th>\n",
       "      <th>to_date</th>\n",
       "      <th>online_booking</th>\n",
       "      <th>mobile_site_booking</th>\n",
       "      <th>booking_created</th>\n",
       "      <th>from_lat</th>\n",
       "      <th>from_long</th>\n",
       "      <th>to_lat</th>\n",
       "      <th>to_long</th>\n",
       "      <th>Car_Cancellation</th>\n",
       "    </tr>\n",
       "  </thead>\n",
       "  <tbody>\n",
       "    <tr>\n",
       "      <th>0</th>\n",
       "      <td>132512</td>\n",
       "      <td>22177</td>\n",
       "      <td>28</td>\n",
       "      <td>NaN</td>\n",
       "      <td>2</td>\n",
       "      <td>83.0</td>\n",
       "      <td>448.0</td>\n",
       "      <td>NaN</td>\n",
       "      <td>NaN</td>\n",
       "      <td>1/1/2013 2:00</td>\n",
       "      <td>NaN</td>\n",
       "      <td>0</td>\n",
       "      <td>0</td>\n",
       "      <td>1/1/2013 1:39</td>\n",
       "      <td>12.924150</td>\n",
       "      <td>77.672290</td>\n",
       "      <td>12.927320</td>\n",
       "      <td>77.635750</td>\n",
       "      <td>0</td>\n",
       "    </tr>\n",
       "    <tr>\n",
       "      <th>1</th>\n",
       "      <td>132513</td>\n",
       "      <td>21413</td>\n",
       "      <td>12</td>\n",
       "      <td>NaN</td>\n",
       "      <td>2</td>\n",
       "      <td>1010.0</td>\n",
       "      <td>540.0</td>\n",
       "      <td>NaN</td>\n",
       "      <td>NaN</td>\n",
       "      <td>1/1/2013 9:00</td>\n",
       "      <td>NaN</td>\n",
       "      <td>0</td>\n",
       "      <td>0</td>\n",
       "      <td>1/1/2013 2:25</td>\n",
       "      <td>12.966910</td>\n",
       "      <td>77.749350</td>\n",
       "      <td>12.927680</td>\n",
       "      <td>77.626640</td>\n",
       "      <td>0</td>\n",
       "    </tr>\n",
       "    <tr>\n",
       "      <th>2</th>\n",
       "      <td>132514</td>\n",
       "      <td>22178</td>\n",
       "      <td>12</td>\n",
       "      <td>NaN</td>\n",
       "      <td>2</td>\n",
       "      <td>1301.0</td>\n",
       "      <td>1034.0</td>\n",
       "      <td>NaN</td>\n",
       "      <td>NaN</td>\n",
       "      <td>1/1/2013 3:30</td>\n",
       "      <td>NaN</td>\n",
       "      <td>0</td>\n",
       "      <td>0</td>\n",
       "      <td>1/1/2013 3:08</td>\n",
       "      <td>12.937222</td>\n",
       "      <td>77.626915</td>\n",
       "      <td>13.047926</td>\n",
       "      <td>77.597766</td>\n",
       "      <td>0</td>\n",
       "    </tr>\n",
       "    <tr>\n",
       "      <th>3</th>\n",
       "      <td>132515</td>\n",
       "      <td>13034</td>\n",
       "      <td>12</td>\n",
       "      <td>NaN</td>\n",
       "      <td>2</td>\n",
       "      <td>768.0</td>\n",
       "      <td>398.0</td>\n",
       "      <td>NaN</td>\n",
       "      <td>NaN</td>\n",
       "      <td>1/1/2013 5:45</td>\n",
       "      <td>NaN</td>\n",
       "      <td>0</td>\n",
       "      <td>0</td>\n",
       "      <td>1/1/2013 4:39</td>\n",
       "      <td>12.989990</td>\n",
       "      <td>77.553320</td>\n",
       "      <td>12.971430</td>\n",
       "      <td>77.639140</td>\n",
       "      <td>0</td>\n",
       "    </tr>\n",
       "    <tr>\n",
       "      <th>4</th>\n",
       "      <td>132517</td>\n",
       "      <td>22180</td>\n",
       "      <td>12</td>\n",
       "      <td>NaN</td>\n",
       "      <td>2</td>\n",
       "      <td>1365.0</td>\n",
       "      <td>849.0</td>\n",
       "      <td>NaN</td>\n",
       "      <td>NaN</td>\n",
       "      <td>1/1/2013 9:00</td>\n",
       "      <td>NaN</td>\n",
       "      <td>0</td>\n",
       "      <td>0</td>\n",
       "      <td>1/1/2013 7:53</td>\n",
       "      <td>12.845653</td>\n",
       "      <td>77.677925</td>\n",
       "      <td>12.954340</td>\n",
       "      <td>77.600720</td>\n",
       "      <td>0</td>\n",
       "    </tr>\n",
       "  </tbody>\n",
       "</table>\n",
       "</div>"
      ],
      "text/plain": [
       "       id  user_id  vehicle_model_id  package_id  travel_type_id  \\\n",
       "0  132512    22177                28         NaN               2   \n",
       "1  132513    21413                12         NaN               2   \n",
       "2  132514    22178                12         NaN               2   \n",
       "3  132515    13034                12         NaN               2   \n",
       "4  132517    22180                12         NaN               2   \n",
       "\n",
       "   from_area_id  to_area_id  from_city_id  to_city_id      from_date  to_date  \\\n",
       "0          83.0       448.0           NaN         NaN  1/1/2013 2:00      NaN   \n",
       "1        1010.0       540.0           NaN         NaN  1/1/2013 9:00      NaN   \n",
       "2        1301.0      1034.0           NaN         NaN  1/1/2013 3:30      NaN   \n",
       "3         768.0       398.0           NaN         NaN  1/1/2013 5:45      NaN   \n",
       "4        1365.0       849.0           NaN         NaN  1/1/2013 9:00      NaN   \n",
       "\n",
       "   online_booking  mobile_site_booking booking_created   from_lat  from_long  \\\n",
       "0               0                    0   1/1/2013 1:39  12.924150  77.672290   \n",
       "1               0                    0   1/1/2013 2:25  12.966910  77.749350   \n",
       "2               0                    0   1/1/2013 3:08  12.937222  77.626915   \n",
       "3               0                    0   1/1/2013 4:39  12.989990  77.553320   \n",
       "4               0                    0   1/1/2013 7:53  12.845653  77.677925   \n",
       "\n",
       "      to_lat    to_long  Car_Cancellation  \n",
       "0  12.927320  77.635750                 0  \n",
       "1  12.927680  77.626640                 0  \n",
       "2  13.047926  77.597766                 0  \n",
       "3  12.971430  77.639140                 0  \n",
       "4  12.954340  77.600720                 0  "
      ]
     },
     "execution_count": 119,
     "metadata": {},
     "output_type": "execute_result"
    }
   ],
   "source": [
    "df=pd.read_csv('YourCabs_training.csv')\n",
    "df.head(5)"
   ]
  },
  {
   "cell_type": "code",
   "execution_count": 120,
   "metadata": {},
   "outputs": [
    {
     "data": {
      "text/plain": [
       "1      2\n",
       "2      2\n",
       "3      2\n",
       "4      2\n",
       "5      2\n",
       "      ..\n",
       "96     2\n",
       "97     2\n",
       "98     2\n",
       "99     2\n",
       "100    2\n",
       "Name: travel_type_id, Length: 100, dtype: int64"
      ]
     },
     "execution_count": 120,
     "metadata": {},
     "output_type": "execute_result"
    }
   ],
   "source": [
    "df.loc[1:100,'travel_type_id']"
   ]
  },
  {
   "cell_type": "code",
   "execution_count": 121,
   "metadata": {},
   "outputs": [],
   "source": [
    "df=df[df['travel_type_id']==2]"
   ]
  },
  {
   "cell_type": "code",
   "execution_count": 122,
   "metadata": {},
   "outputs": [],
   "source": [
    "df=df.drop(['travel_type_id','to_city_id','id','user_id'],1)\n",
    "df['vehicle_model_id'].value_counts()\n",
    "df=df.drop(['vehicle_model_id','package_id','from_city_id','to_date'],1)"
   ]
  },
  {
   "cell_type": "code",
   "execution_count": 123,
   "metadata": {},
   "outputs": [],
   "source": [
    "a=df.groupby('from_area_id')['Car_Cancellation'].sum()\n",
    "b=df.groupby('from_area_id')['Car_Cancellation'].count()\n",
    "df['from_area_cancellation percentage']=round((a/b)*100,2)"
   ]
  },
  {
   "cell_type": "code",
   "execution_count": 124,
   "metadata": {},
   "outputs": [
    {
     "data": {
      "text/html": [
       "<div>\n",
       "<style scoped>\n",
       "    .dataframe tbody tr th:only-of-type {\n",
       "        vertical-align: middle;\n",
       "    }\n",
       "\n",
       "    .dataframe tbody tr th {\n",
       "        vertical-align: top;\n",
       "    }\n",
       "\n",
       "    .dataframe thead th {\n",
       "        text-align: right;\n",
       "    }\n",
       "</style>\n",
       "<table border=\"1\" class=\"dataframe\">\n",
       "  <thead>\n",
       "    <tr style=\"text-align: right;\">\n",
       "      <th></th>\n",
       "      <th>to_area_id</th>\n",
       "      <th>from_date</th>\n",
       "      <th>online_booking</th>\n",
       "      <th>mobile_site_booking</th>\n",
       "      <th>booking_created</th>\n",
       "      <th>from_lat</th>\n",
       "      <th>from_long</th>\n",
       "      <th>to_lat</th>\n",
       "      <th>to_long</th>\n",
       "      <th>Car_Cancellation</th>\n",
       "      <th>from_area_cancellation percentage</th>\n",
       "    </tr>\n",
       "  </thead>\n",
       "  <tbody>\n",
       "    <tr>\n",
       "      <th>0</th>\n",
       "      <td>448.0</td>\n",
       "      <td>1/1/2013 2:00</td>\n",
       "      <td>0</td>\n",
       "      <td>0</td>\n",
       "      <td>1/1/2013 1:39</td>\n",
       "      <td>12.924150</td>\n",
       "      <td>77.672290</td>\n",
       "      <td>12.927320</td>\n",
       "      <td>77.635750</td>\n",
       "      <td>0</td>\n",
       "      <td>0.0</td>\n",
       "    </tr>\n",
       "    <tr>\n",
       "      <th>1</th>\n",
       "      <td>540.0</td>\n",
       "      <td>1/1/2013 9:00</td>\n",
       "      <td>0</td>\n",
       "      <td>0</td>\n",
       "      <td>1/1/2013 2:25</td>\n",
       "      <td>12.966910</td>\n",
       "      <td>77.749350</td>\n",
       "      <td>12.927680</td>\n",
       "      <td>77.626640</td>\n",
       "      <td>0</td>\n",
       "      <td>0.0</td>\n",
       "    </tr>\n",
       "    <tr>\n",
       "      <th>2</th>\n",
       "      <td>1034.0</td>\n",
       "      <td>1/1/2013 3:30</td>\n",
       "      <td>0</td>\n",
       "      <td>0</td>\n",
       "      <td>1/1/2013 3:08</td>\n",
       "      <td>12.937222</td>\n",
       "      <td>77.626915</td>\n",
       "      <td>13.047926</td>\n",
       "      <td>77.597766</td>\n",
       "      <td>0</td>\n",
       "      <td>16.0</td>\n",
       "    </tr>\n",
       "    <tr>\n",
       "      <th>3</th>\n",
       "      <td>398.0</td>\n",
       "      <td>1/1/2013 5:45</td>\n",
       "      <td>0</td>\n",
       "      <td>0</td>\n",
       "      <td>1/1/2013 4:39</td>\n",
       "      <td>12.989990</td>\n",
       "      <td>77.553320</td>\n",
       "      <td>12.971430</td>\n",
       "      <td>77.639140</td>\n",
       "      <td>0</td>\n",
       "      <td>0.0</td>\n",
       "    </tr>\n",
       "    <tr>\n",
       "      <th>4</th>\n",
       "      <td>849.0</td>\n",
       "      <td>1/1/2013 9:00</td>\n",
       "      <td>0</td>\n",
       "      <td>0</td>\n",
       "      <td>1/1/2013 7:53</td>\n",
       "      <td>12.845653</td>\n",
       "      <td>77.677925</td>\n",
       "      <td>12.954340</td>\n",
       "      <td>77.600720</td>\n",
       "      <td>0</td>\n",
       "      <td>0.0</td>\n",
       "    </tr>\n",
       "  </tbody>\n",
       "</table>\n",
       "</div>"
      ],
      "text/plain": [
       "   to_area_id      from_date  online_booking  mobile_site_booking  \\\n",
       "0       448.0  1/1/2013 2:00               0                    0   \n",
       "1       540.0  1/1/2013 9:00               0                    0   \n",
       "2      1034.0  1/1/2013 3:30               0                    0   \n",
       "3       398.0  1/1/2013 5:45               0                    0   \n",
       "4       849.0  1/1/2013 9:00               0                    0   \n",
       "\n",
       "  booking_created   from_lat  from_long     to_lat    to_long  \\\n",
       "0   1/1/2013 1:39  12.924150  77.672290  12.927320  77.635750   \n",
       "1   1/1/2013 2:25  12.966910  77.749350  12.927680  77.626640   \n",
       "2   1/1/2013 3:08  12.937222  77.626915  13.047926  77.597766   \n",
       "3   1/1/2013 4:39  12.989990  77.553320  12.971430  77.639140   \n",
       "4   1/1/2013 7:53  12.845653  77.677925  12.954340  77.600720   \n",
       "\n",
       "   Car_Cancellation  from_area_cancellation percentage  \n",
       "0                 0                                0.0  \n",
       "1                 0                                0.0  \n",
       "2                 0                               16.0  \n",
       "3                 0                                0.0  \n",
       "4                 0                                0.0  "
      ]
     },
     "execution_count": 124,
     "metadata": {},
     "output_type": "execute_result"
    }
   ],
   "source": [
    "df.replace(np.nan,0,inplace=True)\n",
    "df.drop('from_area_id',1,inplace=True)\n",
    "df.head(5)"
   ]
  },
  {
   "cell_type": "code",
   "execution_count": 125,
   "metadata": {},
   "outputs": [
    {
     "data": {
      "text/plain": [
       "count    321.000000\n",
       "mean      14.004984\n",
       "std       12.817748\n",
       "min        0.370000\n",
       "25%        6.250000\n",
       "50%       10.000000\n",
       "75%       16.670000\n",
       "max      100.000000\n",
       "Name: from_area_cancellation percentage, dtype: float64"
      ]
     },
     "execution_count": 125,
     "metadata": {},
     "output_type": "execute_result"
    }
   ],
   "source": [
    "temp=df[df['from_area_cancellation percentage']!=0]['from_area_cancellation percentage']\n",
    "temp.describe()"
   ]
  },
  {
   "cell_type": "code",
   "execution_count": 126,
   "metadata": {},
   "outputs": [
    {
     "data": {
      "text/plain": [
       "2       (13.607, 100.0]\n",
       "22       (7.69, 13.607]\n",
       "25        (0.369, 7.69]\n",
       "49      (13.607, 100.0]\n",
       "52        (0.369, 7.69]\n",
       "             ...       \n",
       "1388      (0.369, 7.69]\n",
       "1390     (7.69, 13.607]\n",
       "1395    (13.607, 100.0]\n",
       "1398    (13.607, 100.0]\n",
       "1399     (7.69, 13.607]\n",
       "Name: from_area_cancellation percentage, Length: 321, dtype: category\n",
       "Categories (3, interval[float64, right]): [(0.369, 7.69] < (7.69, 13.607] < (13.607, 100.0]]"
      ]
     },
     "execution_count": 126,
     "metadata": {},
     "output_type": "execute_result"
    }
   ],
   "source": [
    "pd.qcut(temp,3)"
   ]
  },
  {
   "cell_type": "code",
   "execution_count": 127,
   "metadata": {},
   "outputs": [],
   "source": [
    "cd=[(df['from_area_cancellation percentage'].between(0.0,0.369)),(df['from_area_cancellation percentage'].between(0.369, 7.69)),(df['from_area_cancellation percentage'].between(7.69, 13.607)),(df['from_area_cancellation percentage'].between(13.607, 100.0))]\n",
    "labels=['No Cancellation','low','medium','high']\n",
    "df['fac_percentage']=np.select(cd,labels)"
   ]
  },
  {
   "cell_type": "code",
   "execution_count": 128,
   "metadata": {},
   "outputs": [],
   "source": [
    "df.drop('from_area_cancellation percentage',1,inplace=True)\n"
   ]
  },
  {
   "cell_type": "code",
   "execution_count": 129,
   "metadata": {},
   "outputs": [],
   "source": [
    "a=df.groupby('to_area_id')['Car_Cancellation'].sum()\n",
    "b=df.groupby('to_area_id')['Car_Cancellation'].count()\n",
    "df['to_area_cancellation_percentage']=round((a/b)*100,2)"
   ]
  },
  {
   "cell_type": "code",
   "execution_count": 130,
   "metadata": {},
   "outputs": [],
   "source": [
    "df.replace(np.nan,0,inplace=True)\n",
    "df.drop('to_area_id',1,inplace=True)"
   ]
  },
  {
   "cell_type": "code",
   "execution_count": 131,
   "metadata": {},
   "outputs": [
    {
     "data": {
      "text/plain": [
       "count    319.000000\n",
       "mean      17.311254\n",
       "std       16.988588\n",
       "min        0.750000\n",
       "25%        7.200000\n",
       "50%       11.110000\n",
       "75%       20.000000\n",
       "max      100.000000\n",
       "Name: to_area_cancellation_percentage, dtype: float64"
      ]
     },
     "execution_count": 131,
     "metadata": {},
     "output_type": "execute_result"
    }
   ],
   "source": [
    "temp=df[df['to_area_cancellation_percentage']!=0]['to_area_cancellation_percentage']\n",
    "temp.describe()"
   ]
  },
  {
   "cell_type": "code",
   "execution_count": 132,
   "metadata": {},
   "outputs": [
    {
     "data": {
      "text/plain": [
       "15      (17.39, 100.0]\n",
       "16      (17.39, 100.0]\n",
       "22       (8.76, 17.39]\n",
       "25       (8.76, 17.39]\n",
       "51       (8.76, 17.39]\n",
       "             ...      \n",
       "1388     (0.749, 8.76]\n",
       "1390    (17.39, 100.0]\n",
       "1395    (17.39, 100.0]\n",
       "1398     (8.76, 17.39]\n",
       "1399     (0.749, 8.76]\n",
       "Name: to_area_cancellation_percentage, Length: 319, dtype: category\n",
       "Categories (3, interval[float64, right]): [(0.749, 8.76] < (8.76, 17.39] < (17.39, 100.0]]"
      ]
     },
     "execution_count": 132,
     "metadata": {},
     "output_type": "execute_result"
    }
   ],
   "source": [
    "pd.qcut(temp,3)"
   ]
  },
  {
   "cell_type": "code",
   "execution_count": 133,
   "metadata": {},
   "outputs": [],
   "source": [
    "cd=[(df['to_area_cancellation_percentage'].between(0.0,0.749)),(df['to_area_cancellation_percentage'].between(0.749, 8.76)),(df['to_area_cancellation_percentage'].between(8.76, 17.39)),(df['to_area_cancellation_percentage'].between(17.39, 100.0))]\n",
    "labels=['No Cancellation','low','medium','high']\n",
    "df['tac_percentage']=np.select(cd,labels)"
   ]
  },
  {
   "cell_type": "code",
   "execution_count": 134,
   "metadata": {},
   "outputs": [
    {
     "data": {
      "text/html": [
       "<div>\n",
       "<style scoped>\n",
       "    .dataframe tbody tr th:only-of-type {\n",
       "        vertical-align: middle;\n",
       "    }\n",
       "\n",
       "    .dataframe tbody tr th {\n",
       "        vertical-align: top;\n",
       "    }\n",
       "\n",
       "    .dataframe thead th {\n",
       "        text-align: right;\n",
       "    }\n",
       "</style>\n",
       "<table border=\"1\" class=\"dataframe\">\n",
       "  <thead>\n",
       "    <tr style=\"text-align: right;\">\n",
       "      <th></th>\n",
       "      <th>from_date</th>\n",
       "      <th>online_booking</th>\n",
       "      <th>mobile_site_booking</th>\n",
       "      <th>booking_created</th>\n",
       "      <th>from_lat</th>\n",
       "      <th>from_long</th>\n",
       "      <th>to_lat</th>\n",
       "      <th>to_long</th>\n",
       "      <th>Car_Cancellation</th>\n",
       "      <th>fac_percentage</th>\n",
       "      <th>tac_percentage</th>\n",
       "    </tr>\n",
       "  </thead>\n",
       "  <tbody>\n",
       "    <tr>\n",
       "      <th>0</th>\n",
       "      <td>1/1/2013 2:00</td>\n",
       "      <td>0</td>\n",
       "      <td>0</td>\n",
       "      <td>1/1/2013 1:39</td>\n",
       "      <td>12.924150</td>\n",
       "      <td>77.672290</td>\n",
       "      <td>12.927320</td>\n",
       "      <td>77.635750</td>\n",
       "      <td>0</td>\n",
       "      <td>No Cancellation</td>\n",
       "      <td>No Cancellation</td>\n",
       "    </tr>\n",
       "    <tr>\n",
       "      <th>1</th>\n",
       "      <td>1/1/2013 9:00</td>\n",
       "      <td>0</td>\n",
       "      <td>0</td>\n",
       "      <td>1/1/2013 2:25</td>\n",
       "      <td>12.966910</td>\n",
       "      <td>77.749350</td>\n",
       "      <td>12.927680</td>\n",
       "      <td>77.626640</td>\n",
       "      <td>0</td>\n",
       "      <td>No Cancellation</td>\n",
       "      <td>No Cancellation</td>\n",
       "    </tr>\n",
       "    <tr>\n",
       "      <th>2</th>\n",
       "      <td>1/1/2013 3:30</td>\n",
       "      <td>0</td>\n",
       "      <td>0</td>\n",
       "      <td>1/1/2013 3:08</td>\n",
       "      <td>12.937222</td>\n",
       "      <td>77.626915</td>\n",
       "      <td>13.047926</td>\n",
       "      <td>77.597766</td>\n",
       "      <td>0</td>\n",
       "      <td>high</td>\n",
       "      <td>No Cancellation</td>\n",
       "    </tr>\n",
       "    <tr>\n",
       "      <th>3</th>\n",
       "      <td>1/1/2013 5:45</td>\n",
       "      <td>0</td>\n",
       "      <td>0</td>\n",
       "      <td>1/1/2013 4:39</td>\n",
       "      <td>12.989990</td>\n",
       "      <td>77.553320</td>\n",
       "      <td>12.971430</td>\n",
       "      <td>77.639140</td>\n",
       "      <td>0</td>\n",
       "      <td>No Cancellation</td>\n",
       "      <td>No Cancellation</td>\n",
       "    </tr>\n",
       "    <tr>\n",
       "      <th>4</th>\n",
       "      <td>1/1/2013 9:00</td>\n",
       "      <td>0</td>\n",
       "      <td>0</td>\n",
       "      <td>1/1/2013 7:53</td>\n",
       "      <td>12.845653</td>\n",
       "      <td>77.677925</td>\n",
       "      <td>12.954340</td>\n",
       "      <td>77.600720</td>\n",
       "      <td>0</td>\n",
       "      <td>No Cancellation</td>\n",
       "      <td>No Cancellation</td>\n",
       "    </tr>\n",
       "    <tr>\n",
       "      <th>...</th>\n",
       "      <td>...</td>\n",
       "      <td>...</td>\n",
       "      <td>...</td>\n",
       "      <td>...</td>\n",
       "      <td>...</td>\n",
       "      <td>...</td>\n",
       "      <td>...</td>\n",
       "      <td>...</td>\n",
       "      <td>...</td>\n",
       "      <td>...</td>\n",
       "      <td>...</td>\n",
       "    </tr>\n",
       "    <tr>\n",
       "      <th>43425</th>\n",
       "      <td>11/25/2013 0:00</td>\n",
       "      <td>0</td>\n",
       "      <td>1</td>\n",
       "      <td>11/24/2013 14:24</td>\n",
       "      <td>12.976770</td>\n",
       "      <td>77.572700</td>\n",
       "      <td>13.015080</td>\n",
       "      <td>77.677960</td>\n",
       "      <td>0</td>\n",
       "      <td>No Cancellation</td>\n",
       "      <td>No Cancellation</td>\n",
       "    </tr>\n",
       "    <tr>\n",
       "      <th>43426</th>\n",
       "      <td>11/24/2013 18:00</td>\n",
       "      <td>1</td>\n",
       "      <td>0</td>\n",
       "      <td>11/24/2013 14:25</td>\n",
       "      <td>13.030640</td>\n",
       "      <td>77.649100</td>\n",
       "      <td>12.952780</td>\n",
       "      <td>77.590880</td>\n",
       "      <td>0</td>\n",
       "      <td>No Cancellation</td>\n",
       "      <td>No Cancellation</td>\n",
       "    </tr>\n",
       "    <tr>\n",
       "      <th>43427</th>\n",
       "      <td>11/26/2013 1:00</td>\n",
       "      <td>1</td>\n",
       "      <td>0</td>\n",
       "      <td>11/24/2013 14:30</td>\n",
       "      <td>13.199560</td>\n",
       "      <td>77.706880</td>\n",
       "      <td>13.017436</td>\n",
       "      <td>77.644580</td>\n",
       "      <td>0</td>\n",
       "      <td>No Cancellation</td>\n",
       "      <td>No Cancellation</td>\n",
       "    </tr>\n",
       "    <tr>\n",
       "      <th>43429</th>\n",
       "      <td>11/24/2013 16:00</td>\n",
       "      <td>0</td>\n",
       "      <td>0</td>\n",
       "      <td>11/24/2013 14:43</td>\n",
       "      <td>12.968970</td>\n",
       "      <td>77.594560</td>\n",
       "      <td>12.938230</td>\n",
       "      <td>77.622890</td>\n",
       "      <td>0</td>\n",
       "      <td>No Cancellation</td>\n",
       "      <td>No Cancellation</td>\n",
       "    </tr>\n",
       "    <tr>\n",
       "      <th>43430</th>\n",
       "      <td>11/25/2013 5:00</td>\n",
       "      <td>0</td>\n",
       "      <td>1</td>\n",
       "      <td>11/24/2013 14:50</td>\n",
       "      <td>12.976720</td>\n",
       "      <td>77.649270</td>\n",
       "      <td>13.199560</td>\n",
       "      <td>77.706880</td>\n",
       "      <td>0</td>\n",
       "      <td>No Cancellation</td>\n",
       "      <td>No Cancellation</td>\n",
       "    </tr>\n",
       "  </tbody>\n",
       "</table>\n",
       "<p>34292 rows × 11 columns</p>\n",
       "</div>"
      ],
      "text/plain": [
       "              from_date  online_booking  mobile_site_booking  \\\n",
       "0         1/1/2013 2:00               0                    0   \n",
       "1         1/1/2013 9:00               0                    0   \n",
       "2         1/1/2013 3:30               0                    0   \n",
       "3         1/1/2013 5:45               0                    0   \n",
       "4         1/1/2013 9:00               0                    0   \n",
       "...                 ...             ...                  ...   \n",
       "43425   11/25/2013 0:00               0                    1   \n",
       "43426  11/24/2013 18:00               1                    0   \n",
       "43427   11/26/2013 1:00               1                    0   \n",
       "43429  11/24/2013 16:00               0                    0   \n",
       "43430   11/25/2013 5:00               0                    1   \n",
       "\n",
       "        booking_created   from_lat  from_long     to_lat    to_long  \\\n",
       "0         1/1/2013 1:39  12.924150  77.672290  12.927320  77.635750   \n",
       "1         1/1/2013 2:25  12.966910  77.749350  12.927680  77.626640   \n",
       "2         1/1/2013 3:08  12.937222  77.626915  13.047926  77.597766   \n",
       "3         1/1/2013 4:39  12.989990  77.553320  12.971430  77.639140   \n",
       "4         1/1/2013 7:53  12.845653  77.677925  12.954340  77.600720   \n",
       "...                 ...        ...        ...        ...        ...   \n",
       "43425  11/24/2013 14:24  12.976770  77.572700  13.015080  77.677960   \n",
       "43426  11/24/2013 14:25  13.030640  77.649100  12.952780  77.590880   \n",
       "43427  11/24/2013 14:30  13.199560  77.706880  13.017436  77.644580   \n",
       "43429  11/24/2013 14:43  12.968970  77.594560  12.938230  77.622890   \n",
       "43430  11/24/2013 14:50  12.976720  77.649270  13.199560  77.706880   \n",
       "\n",
       "       Car_Cancellation   fac_percentage   tac_percentage  \n",
       "0                     0  No Cancellation  No Cancellation  \n",
       "1                     0  No Cancellation  No Cancellation  \n",
       "2                     0             high  No Cancellation  \n",
       "3                     0  No Cancellation  No Cancellation  \n",
       "4                     0  No Cancellation  No Cancellation  \n",
       "...                 ...              ...              ...  \n",
       "43425                 0  No Cancellation  No Cancellation  \n",
       "43426                 0  No Cancellation  No Cancellation  \n",
       "43427                 0  No Cancellation  No Cancellation  \n",
       "43429                 0  No Cancellation  No Cancellation  \n",
       "43430                 0  No Cancellation  No Cancellation  \n",
       "\n",
       "[34292 rows x 11 columns]"
      ]
     },
     "execution_count": 134,
     "metadata": {},
     "output_type": "execute_result"
    }
   ],
   "source": [
    "df.drop('to_area_cancellation_percentage',1,inplace=True)\n",
    "df"
   ]
  },
  {
   "cell_type": "code",
   "execution_count": 135,
   "metadata": {},
   "outputs": [],
   "source": [
    "df['date_time']=pd.to_datetime(df['from_date'])\n",
    "df['booking_start']=pd.to_datetime(df['booking_created'])\n"
   ]
  },
  {
   "cell_type": "code",
   "execution_count": 136,
   "metadata": {},
   "outputs": [],
   "source": [
    "days=df['date_time'].dt.day_name()\n",
    "df['Weekdays']=np.where((days=='Saturday')|(days=='Sunday'),'Weekend','Weekday')"
   ]
  },
  {
   "cell_type": "code",
   "execution_count": 137,
   "metadata": {},
   "outputs": [
    {
     "data": {
      "text/html": [
       "<div>\n",
       "<style scoped>\n",
       "    .dataframe tbody tr th:only-of-type {\n",
       "        vertical-align: middle;\n",
       "    }\n",
       "\n",
       "    .dataframe tbody tr th {\n",
       "        vertical-align: top;\n",
       "    }\n",
       "\n",
       "    .dataframe thead th {\n",
       "        text-align: right;\n",
       "    }\n",
       "</style>\n",
       "<table border=\"1\" class=\"dataframe\">\n",
       "  <thead>\n",
       "    <tr style=\"text-align: right;\">\n",
       "      <th></th>\n",
       "      <th>from_date</th>\n",
       "      <th>online_booking</th>\n",
       "      <th>mobile_site_booking</th>\n",
       "      <th>booking_created</th>\n",
       "      <th>from_lat</th>\n",
       "      <th>from_long</th>\n",
       "      <th>to_lat</th>\n",
       "      <th>to_long</th>\n",
       "      <th>Car_Cancellation</th>\n",
       "      <th>fac_percentage</th>\n",
       "      <th>tac_percentage</th>\n",
       "      <th>date_time</th>\n",
       "      <th>booking_start</th>\n",
       "      <th>Weekdays</th>\n",
       "    </tr>\n",
       "  </thead>\n",
       "  <tbody>\n",
       "    <tr>\n",
       "      <th>0</th>\n",
       "      <td>1/1/2013 2:00</td>\n",
       "      <td>0</td>\n",
       "      <td>0</td>\n",
       "      <td>1/1/2013 1:39</td>\n",
       "      <td>12.924150</td>\n",
       "      <td>77.672290</td>\n",
       "      <td>12.927320</td>\n",
       "      <td>77.635750</td>\n",
       "      <td>0</td>\n",
       "      <td>No Cancellation</td>\n",
       "      <td>No Cancellation</td>\n",
       "      <td>2013-01-01 02:00:00</td>\n",
       "      <td>2013-01-01 01:39:00</td>\n",
       "      <td>Weekday</td>\n",
       "    </tr>\n",
       "    <tr>\n",
       "      <th>1</th>\n",
       "      <td>1/1/2013 9:00</td>\n",
       "      <td>0</td>\n",
       "      <td>0</td>\n",
       "      <td>1/1/2013 2:25</td>\n",
       "      <td>12.966910</td>\n",
       "      <td>77.749350</td>\n",
       "      <td>12.927680</td>\n",
       "      <td>77.626640</td>\n",
       "      <td>0</td>\n",
       "      <td>No Cancellation</td>\n",
       "      <td>No Cancellation</td>\n",
       "      <td>2013-01-01 09:00:00</td>\n",
       "      <td>2013-01-01 02:25:00</td>\n",
       "      <td>Weekday</td>\n",
       "    </tr>\n",
       "    <tr>\n",
       "      <th>2</th>\n",
       "      <td>1/1/2013 3:30</td>\n",
       "      <td>0</td>\n",
       "      <td>0</td>\n",
       "      <td>1/1/2013 3:08</td>\n",
       "      <td>12.937222</td>\n",
       "      <td>77.626915</td>\n",
       "      <td>13.047926</td>\n",
       "      <td>77.597766</td>\n",
       "      <td>0</td>\n",
       "      <td>high</td>\n",
       "      <td>No Cancellation</td>\n",
       "      <td>2013-01-01 03:30:00</td>\n",
       "      <td>2013-01-01 03:08:00</td>\n",
       "      <td>Weekday</td>\n",
       "    </tr>\n",
       "    <tr>\n",
       "      <th>3</th>\n",
       "      <td>1/1/2013 5:45</td>\n",
       "      <td>0</td>\n",
       "      <td>0</td>\n",
       "      <td>1/1/2013 4:39</td>\n",
       "      <td>12.989990</td>\n",
       "      <td>77.553320</td>\n",
       "      <td>12.971430</td>\n",
       "      <td>77.639140</td>\n",
       "      <td>0</td>\n",
       "      <td>No Cancellation</td>\n",
       "      <td>No Cancellation</td>\n",
       "      <td>2013-01-01 05:45:00</td>\n",
       "      <td>2013-01-01 04:39:00</td>\n",
       "      <td>Weekday</td>\n",
       "    </tr>\n",
       "    <tr>\n",
       "      <th>4</th>\n",
       "      <td>1/1/2013 9:00</td>\n",
       "      <td>0</td>\n",
       "      <td>0</td>\n",
       "      <td>1/1/2013 7:53</td>\n",
       "      <td>12.845653</td>\n",
       "      <td>77.677925</td>\n",
       "      <td>12.954340</td>\n",
       "      <td>77.600720</td>\n",
       "      <td>0</td>\n",
       "      <td>No Cancellation</td>\n",
       "      <td>No Cancellation</td>\n",
       "      <td>2013-01-01 09:00:00</td>\n",
       "      <td>2013-01-01 07:53:00</td>\n",
       "      <td>Weekday</td>\n",
       "    </tr>\n",
       "  </tbody>\n",
       "</table>\n",
       "</div>"
      ],
      "text/plain": [
       "       from_date  online_booking  mobile_site_booking booking_created  \\\n",
       "0  1/1/2013 2:00               0                    0   1/1/2013 1:39   \n",
       "1  1/1/2013 9:00               0                    0   1/1/2013 2:25   \n",
       "2  1/1/2013 3:30               0                    0   1/1/2013 3:08   \n",
       "3  1/1/2013 5:45               0                    0   1/1/2013 4:39   \n",
       "4  1/1/2013 9:00               0                    0   1/1/2013 7:53   \n",
       "\n",
       "    from_lat  from_long     to_lat    to_long  Car_Cancellation  \\\n",
       "0  12.924150  77.672290  12.927320  77.635750                 0   \n",
       "1  12.966910  77.749350  12.927680  77.626640                 0   \n",
       "2  12.937222  77.626915  13.047926  77.597766                 0   \n",
       "3  12.989990  77.553320  12.971430  77.639140                 0   \n",
       "4  12.845653  77.677925  12.954340  77.600720                 0   \n",
       "\n",
       "    fac_percentage   tac_percentage           date_time       booking_start  \\\n",
       "0  No Cancellation  No Cancellation 2013-01-01 02:00:00 2013-01-01 01:39:00   \n",
       "1  No Cancellation  No Cancellation 2013-01-01 09:00:00 2013-01-01 02:25:00   \n",
       "2             high  No Cancellation 2013-01-01 03:30:00 2013-01-01 03:08:00   \n",
       "3  No Cancellation  No Cancellation 2013-01-01 05:45:00 2013-01-01 04:39:00   \n",
       "4  No Cancellation  No Cancellation 2013-01-01 09:00:00 2013-01-01 07:53:00   \n",
       "\n",
       "  Weekdays  \n",
       "0  Weekday  \n",
       "1  Weekday  \n",
       "2  Weekday  \n",
       "3  Weekday  \n",
       "4  Weekday  "
      ]
     },
     "execution_count": 137,
     "metadata": {},
     "output_type": "execute_result"
    }
   ],
   "source": [
    "df.head(5)"
   ]
  },
  {
   "cell_type": "code",
   "execution_count": 138,
   "metadata": {},
   "outputs": [
    {
     "data": {
      "text/plain": [
       "0        (2013-01-01 01:59:59.999999999, 2013-04-23 03:...\n",
       "1        (2013-01-01 01:59:59.999999999, 2013-04-23 03:...\n",
       "2        (2013-01-01 01:59:59.999999999, 2013-04-23 03:...\n",
       "3        (2013-01-01 01:59:59.999999999, 2013-04-23 03:...\n",
       "4        (2013-01-01 01:59:59.999999999, 2013-04-23 03:...\n",
       "                               ...                        \n",
       "43425           (2013-09-10 14:15:00, 2014-02-08 05:45:00]\n",
       "43426           (2013-09-10 14:15:00, 2014-02-08 05:45:00]\n",
       "43427           (2013-09-10 14:15:00, 2014-02-08 05:45:00]\n",
       "43429           (2013-09-10 14:15:00, 2014-02-08 05:45:00]\n",
       "43430           (2013-09-10 14:15:00, 2014-02-08 05:45:00]\n",
       "Name: date_time, Length: 34292, dtype: category\n",
       "Categories (4, interval[datetime64[ns], right]): [(2013-01-01 01:59:59.999999999, 2013-04-23 03:... < (2013-04-23 03:33:45, 2013-07-10 11:52:30] < (2013-07-10 11:52:30, 2013-09-10 14:15:00] < (2013-09-10 14:15:00, 2014-02-08 05:45:00]]"
      ]
     },
     "execution_count": 138,
     "metadata": {},
     "output_type": "execute_result"
    }
   ],
   "source": [
    "pd.qcut(df['date_time'],4)"
   ]
  },
  {
   "cell_type": "code",
   "execution_count": 139,
   "metadata": {},
   "outputs": [
    {
     "data": {
      "text/html": [
       "<div>\n",
       "<style scoped>\n",
       "    .dataframe tbody tr th:only-of-type {\n",
       "        vertical-align: middle;\n",
       "    }\n",
       "\n",
       "    .dataframe tbody tr th {\n",
       "        vertical-align: top;\n",
       "    }\n",
       "\n",
       "    .dataframe thead th {\n",
       "        text-align: right;\n",
       "    }\n",
       "</style>\n",
       "<table border=\"1\" class=\"dataframe\">\n",
       "  <thead>\n",
       "    <tr style=\"text-align: right;\">\n",
       "      <th></th>\n",
       "      <th>from_date</th>\n",
       "      <th>online_booking</th>\n",
       "      <th>mobile_site_booking</th>\n",
       "      <th>booking_created</th>\n",
       "      <th>from_lat</th>\n",
       "      <th>from_long</th>\n",
       "      <th>to_lat</th>\n",
       "      <th>to_long</th>\n",
       "      <th>Car_Cancellation</th>\n",
       "      <th>fac_percentage</th>\n",
       "      <th>tac_percentage</th>\n",
       "      <th>date_time</th>\n",
       "      <th>booking_start</th>\n",
       "      <th>Weekdays</th>\n",
       "      <th>months</th>\n",
       "    </tr>\n",
       "  </thead>\n",
       "  <tbody>\n",
       "    <tr>\n",
       "      <th>0</th>\n",
       "      <td>1/1/2013 2:00</td>\n",
       "      <td>0</td>\n",
       "      <td>0</td>\n",
       "      <td>1/1/2013 1:39</td>\n",
       "      <td>12.924150</td>\n",
       "      <td>77.672290</td>\n",
       "      <td>12.927320</td>\n",
       "      <td>77.635750</td>\n",
       "      <td>0</td>\n",
       "      <td>No Cancellation</td>\n",
       "      <td>No Cancellation</td>\n",
       "      <td>2013-01-01 02:00:00</td>\n",
       "      <td>2013-01-01 01:39:00</td>\n",
       "      <td>Weekday</td>\n",
       "      <td>January</td>\n",
       "    </tr>\n",
       "    <tr>\n",
       "      <th>1</th>\n",
       "      <td>1/1/2013 9:00</td>\n",
       "      <td>0</td>\n",
       "      <td>0</td>\n",
       "      <td>1/1/2013 2:25</td>\n",
       "      <td>12.966910</td>\n",
       "      <td>77.749350</td>\n",
       "      <td>12.927680</td>\n",
       "      <td>77.626640</td>\n",
       "      <td>0</td>\n",
       "      <td>No Cancellation</td>\n",
       "      <td>No Cancellation</td>\n",
       "      <td>2013-01-01 09:00:00</td>\n",
       "      <td>2013-01-01 02:25:00</td>\n",
       "      <td>Weekday</td>\n",
       "      <td>January</td>\n",
       "    </tr>\n",
       "    <tr>\n",
       "      <th>2</th>\n",
       "      <td>1/1/2013 3:30</td>\n",
       "      <td>0</td>\n",
       "      <td>0</td>\n",
       "      <td>1/1/2013 3:08</td>\n",
       "      <td>12.937222</td>\n",
       "      <td>77.626915</td>\n",
       "      <td>13.047926</td>\n",
       "      <td>77.597766</td>\n",
       "      <td>0</td>\n",
       "      <td>high</td>\n",
       "      <td>No Cancellation</td>\n",
       "      <td>2013-01-01 03:30:00</td>\n",
       "      <td>2013-01-01 03:08:00</td>\n",
       "      <td>Weekday</td>\n",
       "      <td>January</td>\n",
       "    </tr>\n",
       "    <tr>\n",
       "      <th>3</th>\n",
       "      <td>1/1/2013 5:45</td>\n",
       "      <td>0</td>\n",
       "      <td>0</td>\n",
       "      <td>1/1/2013 4:39</td>\n",
       "      <td>12.989990</td>\n",
       "      <td>77.553320</td>\n",
       "      <td>12.971430</td>\n",
       "      <td>77.639140</td>\n",
       "      <td>0</td>\n",
       "      <td>No Cancellation</td>\n",
       "      <td>No Cancellation</td>\n",
       "      <td>2013-01-01 05:45:00</td>\n",
       "      <td>2013-01-01 04:39:00</td>\n",
       "      <td>Weekday</td>\n",
       "      <td>January</td>\n",
       "    </tr>\n",
       "    <tr>\n",
       "      <th>4</th>\n",
       "      <td>1/1/2013 9:00</td>\n",
       "      <td>0</td>\n",
       "      <td>0</td>\n",
       "      <td>1/1/2013 7:53</td>\n",
       "      <td>12.845653</td>\n",
       "      <td>77.677925</td>\n",
       "      <td>12.954340</td>\n",
       "      <td>77.600720</td>\n",
       "      <td>0</td>\n",
       "      <td>No Cancellation</td>\n",
       "      <td>No Cancellation</td>\n",
       "      <td>2013-01-01 09:00:00</td>\n",
       "      <td>2013-01-01 07:53:00</td>\n",
       "      <td>Weekday</td>\n",
       "      <td>January</td>\n",
       "    </tr>\n",
       "  </tbody>\n",
       "</table>\n",
       "</div>"
      ],
      "text/plain": [
       "       from_date  online_booking  mobile_site_booking booking_created  \\\n",
       "0  1/1/2013 2:00               0                    0   1/1/2013 1:39   \n",
       "1  1/1/2013 9:00               0                    0   1/1/2013 2:25   \n",
       "2  1/1/2013 3:30               0                    0   1/1/2013 3:08   \n",
       "3  1/1/2013 5:45               0                    0   1/1/2013 4:39   \n",
       "4  1/1/2013 9:00               0                    0   1/1/2013 7:53   \n",
       "\n",
       "    from_lat  from_long     to_lat    to_long  Car_Cancellation  \\\n",
       "0  12.924150  77.672290  12.927320  77.635750                 0   \n",
       "1  12.966910  77.749350  12.927680  77.626640                 0   \n",
       "2  12.937222  77.626915  13.047926  77.597766                 0   \n",
       "3  12.989990  77.553320  12.971430  77.639140                 0   \n",
       "4  12.845653  77.677925  12.954340  77.600720                 0   \n",
       "\n",
       "    fac_percentage   tac_percentage           date_time       booking_start  \\\n",
       "0  No Cancellation  No Cancellation 2013-01-01 02:00:00 2013-01-01 01:39:00   \n",
       "1  No Cancellation  No Cancellation 2013-01-01 09:00:00 2013-01-01 02:25:00   \n",
       "2             high  No Cancellation 2013-01-01 03:30:00 2013-01-01 03:08:00   \n",
       "3  No Cancellation  No Cancellation 2013-01-01 05:45:00 2013-01-01 04:39:00   \n",
       "4  No Cancellation  No Cancellation 2013-01-01 09:00:00 2013-01-01 07:53:00   \n",
       "\n",
       "  Weekdays   months  \n",
       "0  Weekday  January  \n",
       "1  Weekday  January  \n",
       "2  Weekday  January  \n",
       "3  Weekday  January  \n",
       "4  Weekday  January  "
      ]
     },
     "execution_count": 139,
     "metadata": {},
     "output_type": "execute_result"
    }
   ],
   "source": [
    "df['months']=df['date_time'].dt.month_name()\n",
    "df.head(5)"
   ]
  },
  {
   "cell_type": "code",
   "execution_count": 140,
   "metadata": {},
   "outputs": [],
   "source": [
    "df.drop(['from_date','booking_created'],1,inplace=True)"
   ]
  },
  {
   "cell_type": "code",
   "execution_count": 141,
   "metadata": {},
   "outputs": [],
   "source": [
    "df.reset_index(inplace=True)\n",
    "df['time difference between booking and trip date']=df['booking_start']\n",
    "for i in range(len(df)):\n",
    "    df['time difference between booking and trip date'][i]=((df['date_time'][i]-df['booking_start'][i]).seconds)/60"
   ]
  },
  {
   "cell_type": "code",
   "execution_count": 142,
   "metadata": {},
   "outputs": [],
   "source": [
    "df.drop(['date_time','booking_start'],1,inplace=True)"
   ]
  },
  {
   "cell_type": "code",
   "execution_count": 143,
   "metadata": {},
   "outputs": [
    {
     "data": {
      "text/html": [
       "<div>\n",
       "<style scoped>\n",
       "    .dataframe tbody tr th:only-of-type {\n",
       "        vertical-align: middle;\n",
       "    }\n",
       "\n",
       "    .dataframe tbody tr th {\n",
       "        vertical-align: top;\n",
       "    }\n",
       "\n",
       "    .dataframe thead th {\n",
       "        text-align: right;\n",
       "    }\n",
       "</style>\n",
       "<table border=\"1\" class=\"dataframe\">\n",
       "  <thead>\n",
       "    <tr style=\"text-align: right;\">\n",
       "      <th></th>\n",
       "      <th>online_booking</th>\n",
       "      <th>mobile_site_booking</th>\n",
       "      <th>from_lat</th>\n",
       "      <th>from_long</th>\n",
       "      <th>to_lat</th>\n",
       "      <th>to_long</th>\n",
       "      <th>Car_Cancellation</th>\n",
       "      <th>fac_percentage</th>\n",
       "      <th>tac_percentage</th>\n",
       "      <th>Weekdays</th>\n",
       "      <th>months</th>\n",
       "      <th>time difference between booking and trip date</th>\n",
       "    </tr>\n",
       "  </thead>\n",
       "  <tbody>\n",
       "    <tr>\n",
       "      <th>0</th>\n",
       "      <td>0</td>\n",
       "      <td>0</td>\n",
       "      <td>12.924150</td>\n",
       "      <td>77.672290</td>\n",
       "      <td>12.927320</td>\n",
       "      <td>77.635750</td>\n",
       "      <td>0</td>\n",
       "      <td>No Cancellation</td>\n",
       "      <td>No Cancellation</td>\n",
       "      <td>Weekday</td>\n",
       "      <td>January</td>\n",
       "      <td>21.0</td>\n",
       "    </tr>\n",
       "    <tr>\n",
       "      <th>1</th>\n",
       "      <td>0</td>\n",
       "      <td>0</td>\n",
       "      <td>12.966910</td>\n",
       "      <td>77.749350</td>\n",
       "      <td>12.927680</td>\n",
       "      <td>77.626640</td>\n",
       "      <td>0</td>\n",
       "      <td>No Cancellation</td>\n",
       "      <td>No Cancellation</td>\n",
       "      <td>Weekday</td>\n",
       "      <td>January</td>\n",
       "      <td>395.0</td>\n",
       "    </tr>\n",
       "    <tr>\n",
       "      <th>2</th>\n",
       "      <td>0</td>\n",
       "      <td>0</td>\n",
       "      <td>12.937222</td>\n",
       "      <td>77.626915</td>\n",
       "      <td>13.047926</td>\n",
       "      <td>77.597766</td>\n",
       "      <td>0</td>\n",
       "      <td>high</td>\n",
       "      <td>No Cancellation</td>\n",
       "      <td>Weekday</td>\n",
       "      <td>January</td>\n",
       "      <td>22.0</td>\n",
       "    </tr>\n",
       "    <tr>\n",
       "      <th>3</th>\n",
       "      <td>0</td>\n",
       "      <td>0</td>\n",
       "      <td>12.989990</td>\n",
       "      <td>77.553320</td>\n",
       "      <td>12.971430</td>\n",
       "      <td>77.639140</td>\n",
       "      <td>0</td>\n",
       "      <td>No Cancellation</td>\n",
       "      <td>No Cancellation</td>\n",
       "      <td>Weekday</td>\n",
       "      <td>January</td>\n",
       "      <td>66.0</td>\n",
       "    </tr>\n",
       "    <tr>\n",
       "      <th>4</th>\n",
       "      <td>0</td>\n",
       "      <td>0</td>\n",
       "      <td>12.845653</td>\n",
       "      <td>77.677925</td>\n",
       "      <td>12.954340</td>\n",
       "      <td>77.600720</td>\n",
       "      <td>0</td>\n",
       "      <td>No Cancellation</td>\n",
       "      <td>No Cancellation</td>\n",
       "      <td>Weekday</td>\n",
       "      <td>January</td>\n",
       "      <td>67.0</td>\n",
       "    </tr>\n",
       "  </tbody>\n",
       "</table>\n",
       "</div>"
      ],
      "text/plain": [
       "   online_booking  mobile_site_booking   from_lat  from_long     to_lat  \\\n",
       "0               0                    0  12.924150  77.672290  12.927320   \n",
       "1               0                    0  12.966910  77.749350  12.927680   \n",
       "2               0                    0  12.937222  77.626915  13.047926   \n",
       "3               0                    0  12.989990  77.553320  12.971430   \n",
       "4               0                    0  12.845653  77.677925  12.954340   \n",
       "\n",
       "     to_long  Car_Cancellation   fac_percentage   tac_percentage Weekdays  \\\n",
       "0  77.635750                 0  No Cancellation  No Cancellation  Weekday   \n",
       "1  77.626640                 0  No Cancellation  No Cancellation  Weekday   \n",
       "2  77.597766                 0             high  No Cancellation  Weekday   \n",
       "3  77.639140                 0  No Cancellation  No Cancellation  Weekday   \n",
       "4  77.600720                 0  No Cancellation  No Cancellation  Weekday   \n",
       "\n",
       "    months time difference between booking and trip date  \n",
       "0  January                                          21.0  \n",
       "1  January                                         395.0  \n",
       "2  January                                          22.0  \n",
       "3  January                                          66.0  \n",
       "4  January                                          67.0  "
      ]
     },
     "execution_count": 143,
     "metadata": {},
     "output_type": "execute_result"
    }
   ],
   "source": [
    "df.drop('index',1,inplace=True)\n",
    "df.head(5)"
   ]
  },
  {
   "cell_type": "code",
   "execution_count": 144,
   "metadata": {},
   "outputs": [],
   "source": [
    "df['Seasons']=df['months']\n",
    "for i in range(len(df)):\n",
    "    if df['months'][i]=='March' or df['months'][i]=='April' or df['months'][i]=='May':\n",
    "        df['Seasons'][i]='Spring'\n",
    "    elif df['months'][i]=='June' or df['months'][i]=='July' or df['months'][i]=='August':\n",
    "        df['Seasons'][i]='Summer'  \n",
    "    elif df['months'][i]=='September' or df['months'][i]=='October' or df['months'][i]=='November':\n",
    "        df['Seasons'][i]='Fall'\n",
    "    elif df['months'][i]=='December' or df['months'][i]=='January' or df['months'][i]=='February':\n",
    "        df['Seasons'][i]='Winter'"
   ]
  },
  {
   "cell_type": "code",
   "execution_count": 145,
   "metadata": {},
   "outputs": [
    {
     "data": {
      "text/plain": [
       "Summer    11847\n",
       "Fall       9868\n",
       "Spring     7902\n",
       "Winter     4675\n",
       "Name: Seasons, dtype: int64"
      ]
     },
     "execution_count": 145,
     "metadata": {},
     "output_type": "execute_result"
    }
   ],
   "source": [
    "df.drop('months',1,inplace=True)\n",
    "df['Seasons'].value_counts()"
   ]
  },
  {
   "cell_type": "code",
   "execution_count": 146,
   "metadata": {},
   "outputs": [
    {
     "name": "stdout",
     "output_type": "stream",
     "text": [
      "Requirement already satisfied: haversine in c:\\programdata\\anaconda3\\lib\\site-packages (2.5.1)\n"
     ]
    }
   ],
   "source": [
    "!pip install haversine\n",
    "import haversine as hs"
   ]
  },
  {
   "cell_type": "code",
   "execution_count": 147,
   "metadata": {},
   "outputs": [],
   "source": [
    "df['Distance']=df['from_lat']\n",
    "for i in range(len(df)):\n",
    "    df['Distance'][i]=hs.haversine((df['from_lat'][i],df['from_long'][i]),(df['to_lat'][i],df['to_long'][i]))"
   ]
  },
  {
   "cell_type": "code",
   "execution_count": 150,
   "metadata": {},
   "outputs": [
    {
     "data": {
      "text/html": [
       "<div>\n",
       "<style scoped>\n",
       "    .dataframe tbody tr th:only-of-type {\n",
       "        vertical-align: middle;\n",
       "    }\n",
       "\n",
       "    .dataframe tbody tr th {\n",
       "        vertical-align: top;\n",
       "    }\n",
       "\n",
       "    .dataframe thead th {\n",
       "        text-align: right;\n",
       "    }\n",
       "</style>\n",
       "<table border=\"1\" class=\"dataframe\">\n",
       "  <thead>\n",
       "    <tr style=\"text-align: right;\">\n",
       "      <th></th>\n",
       "      <th>online_booking</th>\n",
       "      <th>mobile_site_booking</th>\n",
       "      <th>Car_Cancellation</th>\n",
       "      <th>fac_percentage</th>\n",
       "      <th>tac_percentage</th>\n",
       "      <th>Weekdays</th>\n",
       "      <th>time difference between booking and trip date</th>\n",
       "      <th>Seasons</th>\n",
       "      <th>Distance</th>\n",
       "    </tr>\n",
       "  </thead>\n",
       "  <tbody>\n",
       "    <tr>\n",
       "      <th>0</th>\n",
       "      <td>0</td>\n",
       "      <td>0</td>\n",
       "      <td>0</td>\n",
       "      <td>No Cancellation</td>\n",
       "      <td>No Cancellation</td>\n",
       "      <td>Weekday</td>\n",
       "      <td>21.0</td>\n",
       "      <td>Winter</td>\n",
       "      <td>3.975770</td>\n",
       "    </tr>\n",
       "    <tr>\n",
       "      <th>1</th>\n",
       "      <td>0</td>\n",
       "      <td>0</td>\n",
       "      <td>0</td>\n",
       "      <td>No Cancellation</td>\n",
       "      <td>No Cancellation</td>\n",
       "      <td>Weekday</td>\n",
       "      <td>395.0</td>\n",
       "      <td>Winter</td>\n",
       "      <td>13.995053</td>\n",
       "    </tr>\n",
       "    <tr>\n",
       "      <th>2</th>\n",
       "      <td>0</td>\n",
       "      <td>0</td>\n",
       "      <td>0</td>\n",
       "      <td>high</td>\n",
       "      <td>No Cancellation</td>\n",
       "      <td>Weekday</td>\n",
       "      <td>22.0</td>\n",
       "      <td>Winter</td>\n",
       "      <td>12.708431</td>\n",
       "    </tr>\n",
       "    <tr>\n",
       "      <th>3</th>\n",
       "      <td>0</td>\n",
       "      <td>0</td>\n",
       "      <td>0</td>\n",
       "      <td>No Cancellation</td>\n",
       "      <td>No Cancellation</td>\n",
       "      <td>Weekday</td>\n",
       "      <td>66.0</td>\n",
       "      <td>Winter</td>\n",
       "      <td>9.525167</td>\n",
       "    </tr>\n",
       "    <tr>\n",
       "      <th>4</th>\n",
       "      <td>0</td>\n",
       "      <td>0</td>\n",
       "      <td>0</td>\n",
       "      <td>No Cancellation</td>\n",
       "      <td>No Cancellation</td>\n",
       "      <td>Weekday</td>\n",
       "      <td>67.0</td>\n",
       "      <td>Winter</td>\n",
       "      <td>14.699802</td>\n",
       "    </tr>\n",
       "    <tr>\n",
       "      <th>5</th>\n",
       "      <td>0</td>\n",
       "      <td>0</td>\n",
       "      <td>0</td>\n",
       "      <td>No Cancellation</td>\n",
       "      <td>No Cancellation</td>\n",
       "      <td>Weekday</td>\n",
       "      <td>869.0</td>\n",
       "      <td>Winter</td>\n",
       "      <td>21.115294</td>\n",
       "    </tr>\n",
       "    <tr>\n",
       "      <th>6</th>\n",
       "      <td>0</td>\n",
       "      <td>0</td>\n",
       "      <td>0</td>\n",
       "      <td>No Cancellation</td>\n",
       "      <td>No Cancellation</td>\n",
       "      <td>Weekday</td>\n",
       "      <td>81.0</td>\n",
       "      <td>Winter</td>\n",
       "      <td>13.331039</td>\n",
       "    </tr>\n",
       "    <tr>\n",
       "      <th>7</th>\n",
       "      <td>0</td>\n",
       "      <td>0</td>\n",
       "      <td>0</td>\n",
       "      <td>No Cancellation</td>\n",
       "      <td>No Cancellation</td>\n",
       "      <td>Weekday</td>\n",
       "      <td>71.0</td>\n",
       "      <td>Winter</td>\n",
       "      <td>11.473843</td>\n",
       "    </tr>\n",
       "    <tr>\n",
       "      <th>8</th>\n",
       "      <td>0</td>\n",
       "      <td>0</td>\n",
       "      <td>0</td>\n",
       "      <td>No Cancellation</td>\n",
       "      <td>No Cancellation</td>\n",
       "      <td>Weekday</td>\n",
       "      <td>65.0</td>\n",
       "      <td>Winter</td>\n",
       "      <td>14.996566</td>\n",
       "    </tr>\n",
       "    <tr>\n",
       "      <th>9</th>\n",
       "      <td>0</td>\n",
       "      <td>0</td>\n",
       "      <td>0</td>\n",
       "      <td>No Cancellation</td>\n",
       "      <td>No Cancellation</td>\n",
       "      <td>Weekday</td>\n",
       "      <td>166.0</td>\n",
       "      <td>Winter</td>\n",
       "      <td>6.010733</td>\n",
       "    </tr>\n",
       "  </tbody>\n",
       "</table>\n",
       "</div>"
      ],
      "text/plain": [
       "   online_booking  mobile_site_booking  Car_Cancellation   fac_percentage  \\\n",
       "0               0                    0                 0  No Cancellation   \n",
       "1               0                    0                 0  No Cancellation   \n",
       "2               0                    0                 0             high   \n",
       "3               0                    0                 0  No Cancellation   \n",
       "4               0                    0                 0  No Cancellation   \n",
       "5               0                    0                 0  No Cancellation   \n",
       "6               0                    0                 0  No Cancellation   \n",
       "7               0                    0                 0  No Cancellation   \n",
       "8               0                    0                 0  No Cancellation   \n",
       "9               0                    0                 0  No Cancellation   \n",
       "\n",
       "    tac_percentage Weekdays time difference between booking and trip date  \\\n",
       "0  No Cancellation  Weekday                                          21.0   \n",
       "1  No Cancellation  Weekday                                         395.0   \n",
       "2  No Cancellation  Weekday                                          22.0   \n",
       "3  No Cancellation  Weekday                                          66.0   \n",
       "4  No Cancellation  Weekday                                          67.0   \n",
       "5  No Cancellation  Weekday                                         869.0   \n",
       "6  No Cancellation  Weekday                                          81.0   \n",
       "7  No Cancellation  Weekday                                          71.0   \n",
       "8  No Cancellation  Weekday                                          65.0   \n",
       "9  No Cancellation  Weekday                                         166.0   \n",
       "\n",
       "  Seasons   Distance  \n",
       "0  Winter   3.975770  \n",
       "1  Winter  13.995053  \n",
       "2  Winter  12.708431  \n",
       "3  Winter   9.525167  \n",
       "4  Winter  14.699802  \n",
       "5  Winter  21.115294  \n",
       "6  Winter  13.331039  \n",
       "7  Winter  11.473843  \n",
       "8  Winter  14.996566  \n",
       "9  Winter   6.010733  "
      ]
     },
     "execution_count": 150,
     "metadata": {},
     "output_type": "execute_result"
    }
   ],
   "source": [
    "df.drop(['from_lat','from_long','to_lat','to_long'],1,inplace=True)\n",
    "df.head(10)\n"
   ]
  },
  {
   "cell_type": "code",
   "execution_count": 151,
   "metadata": {},
   "outputs": [],
   "source": [
    "# Import label encoder\n",
    "from sklearn import preprocessing\n",
    " \n",
    "# label_encoder object knows how to understand word labels.\n",
    "label_encoder = preprocessing.LabelEncoder()"
   ]
  },
  {
   "cell_type": "code",
   "execution_count": 152,
   "metadata": {},
   "outputs": [],
   "source": [
    "df['fac_percentage']= label_encoder.fit_transform(df['fac_percentage'])\n",
    "df['tac_percentage']= label_encoder.fit_transform(df['tac_percentage'])\n",
    "df['Weekdays']= label_encoder.fit_transform(df['Weekdays'])\n",
    "df['Seasons']= label_encoder.fit_transform(df['Seasons'])"
   ]
  },
  {
   "cell_type": "code",
   "execution_count": 153,
   "metadata": {},
   "outputs": [
    {
     "data": {
      "text/html": [
       "<div>\n",
       "<style scoped>\n",
       "    .dataframe tbody tr th:only-of-type {\n",
       "        vertical-align: middle;\n",
       "    }\n",
       "\n",
       "    .dataframe tbody tr th {\n",
       "        vertical-align: top;\n",
       "    }\n",
       "\n",
       "    .dataframe thead th {\n",
       "        text-align: right;\n",
       "    }\n",
       "</style>\n",
       "<table border=\"1\" class=\"dataframe\">\n",
       "  <thead>\n",
       "    <tr style=\"text-align: right;\">\n",
       "      <th></th>\n",
       "      <th>online_booking</th>\n",
       "      <th>mobile_site_booking</th>\n",
       "      <th>Car_Cancellation</th>\n",
       "      <th>fac_percentage</th>\n",
       "      <th>tac_percentage</th>\n",
       "      <th>Weekdays</th>\n",
       "      <th>Seasons</th>\n",
       "      <th>Distance</th>\n",
       "    </tr>\n",
       "  </thead>\n",
       "  <tbody>\n",
       "    <tr>\n",
       "      <th>count</th>\n",
       "      <td>34292.000000</td>\n",
       "      <td>34292.000000</td>\n",
       "      <td>34292.000000</td>\n",
       "      <td>34292.000000</td>\n",
       "      <td>34292.000000</td>\n",
       "      <td>34292.000000</td>\n",
       "      <td>34292.000000</td>\n",
       "      <td>34292.000000</td>\n",
       "    </tr>\n",
       "    <tr>\n",
       "      <th>mean</th>\n",
       "      <td>0.363058</td>\n",
       "      <td>0.048087</td>\n",
       "      <td>0.080923</td>\n",
       "      <td>0.018517</td>\n",
       "      <td>0.018576</td>\n",
       "      <td>0.277995</td>\n",
       "      <td>1.330369</td>\n",
       "      <td>17.378988</td>\n",
       "    </tr>\n",
       "    <tr>\n",
       "      <th>std</th>\n",
       "      <td>0.480889</td>\n",
       "      <td>0.213953</td>\n",
       "      <td>0.272720</td>\n",
       "      <td>0.205722</td>\n",
       "      <td>0.207129</td>\n",
       "      <td>0.448017</td>\n",
       "      <td>1.034139</td>\n",
       "      <td>10.463741</td>\n",
       "    </tr>\n",
       "    <tr>\n",
       "      <th>min</th>\n",
       "      <td>0.000000</td>\n",
       "      <td>0.000000</td>\n",
       "      <td>0.000000</td>\n",
       "      <td>0.000000</td>\n",
       "      <td>0.000000</td>\n",
       "      <td>0.000000</td>\n",
       "      <td>0.000000</td>\n",
       "      <td>0.000000</td>\n",
       "    </tr>\n",
       "    <tr>\n",
       "      <th>25%</th>\n",
       "      <td>0.000000</td>\n",
       "      <td>0.000000</td>\n",
       "      <td>0.000000</td>\n",
       "      <td>0.000000</td>\n",
       "      <td>0.000000</td>\n",
       "      <td>0.000000</td>\n",
       "      <td>0.000000</td>\n",
       "      <td>8.569061</td>\n",
       "    </tr>\n",
       "    <tr>\n",
       "      <th>50%</th>\n",
       "      <td>0.000000</td>\n",
       "      <td>0.000000</td>\n",
       "      <td>0.000000</td>\n",
       "      <td>0.000000</td>\n",
       "      <td>0.000000</td>\n",
       "      <td>0.000000</td>\n",
       "      <td>1.000000</td>\n",
       "      <td>14.675554</td>\n",
       "    </tr>\n",
       "    <tr>\n",
       "      <th>75%</th>\n",
       "      <td>1.000000</td>\n",
       "      <td>0.000000</td>\n",
       "      <td>0.000000</td>\n",
       "      <td>0.000000</td>\n",
       "      <td>0.000000</td>\n",
       "      <td>1.000000</td>\n",
       "      <td>2.000000</td>\n",
       "      <td>26.283393</td>\n",
       "    </tr>\n",
       "    <tr>\n",
       "      <th>max</th>\n",
       "      <td>1.000000</td>\n",
       "      <td>1.000000</td>\n",
       "      <td>1.000000</td>\n",
       "      <td>3.000000</td>\n",
       "      <td>3.000000</td>\n",
       "      <td>1.000000</td>\n",
       "      <td>3.000000</td>\n",
       "      <td>59.841924</td>\n",
       "    </tr>\n",
       "  </tbody>\n",
       "</table>\n",
       "</div>"
      ],
      "text/plain": [
       "       online_booking  mobile_site_booking  Car_Cancellation  fac_percentage  \\\n",
       "count    34292.000000         34292.000000      34292.000000    34292.000000   \n",
       "mean         0.363058             0.048087          0.080923        0.018517   \n",
       "std          0.480889             0.213953          0.272720        0.205722   \n",
       "min          0.000000             0.000000          0.000000        0.000000   \n",
       "25%          0.000000             0.000000          0.000000        0.000000   \n",
       "50%          0.000000             0.000000          0.000000        0.000000   \n",
       "75%          1.000000             0.000000          0.000000        0.000000   \n",
       "max          1.000000             1.000000          1.000000        3.000000   \n",
       "\n",
       "       tac_percentage      Weekdays       Seasons      Distance  \n",
       "count    34292.000000  34292.000000  34292.000000  34292.000000  \n",
       "mean         0.018576      0.277995      1.330369     17.378988  \n",
       "std          0.207129      0.448017      1.034139     10.463741  \n",
       "min          0.000000      0.000000      0.000000      0.000000  \n",
       "25%          0.000000      0.000000      0.000000      8.569061  \n",
       "50%          0.000000      0.000000      1.000000     14.675554  \n",
       "75%          0.000000      1.000000      2.000000     26.283393  \n",
       "max          3.000000      1.000000      3.000000     59.841924  "
      ]
     },
     "execution_count": 153,
     "metadata": {},
     "output_type": "execute_result"
    }
   ],
   "source": [
    "df.describe()"
   ]
  },
  {
   "cell_type": "code",
   "execution_count": 154,
   "metadata": {},
   "outputs": [],
   "source": [
    "from sklearn import linear_model, metrics\n",
    "from sklearn.model_selection import train_test_split"
   ]
  },
  {
   "cell_type": "code",
   "execution_count": 155,
   "metadata": {},
   "outputs": [],
   "source": [
    "X=df.drop('Car_Cancellation',1)\n",
    "y=df['Car_Cancellation']\n",
    "X_train, X_test, y_train, y_test = train_test_split(X, y, test_size=0.3,random_state=1)"
   ]
  },
  {
   "cell_type": "code",
   "execution_count": 156,
   "metadata": {},
   "outputs": [
    {
     "name": "stdout",
     "output_type": "stream",
     "text": [
      "              precision    recall  f1-score   support\n",
      "\n",
      "           0       0.90      0.81      0.86      9461\n",
      "           1       0.01      0.02      0.01       827\n",
      "\n",
      "    accuracy                           0.75     10288\n",
      "   macro avg       0.46      0.42      0.43     10288\n",
      "weighted avg       0.83      0.75      0.79     10288\n",
      "\n",
      "Accuracy:  0.749708398133748\n"
     ]
    }
   ],
   "source": [
    "#Linear Regression model\n",
    "from sklearn import metrics\n",
    "reg = linear_model.LinearRegression()\n",
    "reg.fit(X_train,y_train)\n",
    "y_pred=reg.predict(X_test)\n",
    "y_pred=(abs(y_pred//1))\n",
    "\n",
    "print(metrics.classification_report(y_test,y_pred))\n",
    "print('Accuracy: ', metrics.accuracy_score(y_test,y_pred))"
   ]
  },
  {
   "cell_type": "code",
   "execution_count": 98,
   "metadata": {},
   "outputs": [],
   "source": [
    "#Decision tree model\n",
    "from sklearn.model_selection import cross_val_score\n",
    "from sklearn.model_selection import  GridSearchCV\n",
    "from sklearn.metrics import roc_curve, roc_auc_score\n",
    "from sklearn.tree import DecisionTreeClassifier"
   ]
  },
  {
   "cell_type": "code",
   "execution_count": 99,
   "metadata": {},
   "outputs": [
    {
     "data": {
      "text/plain": [
       "<bound method BaseEstimator.get_params of DecisionTreeClassifier(random_state=0)>"
      ]
     },
     "execution_count": 99,
     "metadata": {},
     "output_type": "execute_result"
    }
   ],
   "source": [
    "model=DecisionTreeClassifier(random_state=0)\n",
    "model.get_params"
   ]
  },
  {
   "cell_type": "code",
   "execution_count": 49,
   "metadata": {},
   "outputs": [
    {
     "name": "stdout",
     "output_type": "stream",
     "text": [
      "Best Parameters using grid search: \n",
      " {'criterion': 'entropy', 'max_depth': 6, 'max_features': 'log2'}\n"
     ]
    }
   ],
   "source": [
    "# Providing the different values of hyperparameters\n",
    "param_dist = {'max_depth': [2, 3, 4, 5, 6],\n",
    "              'max_features': ['auto', 'sqrt', 'log2', None],\n",
    "              'criterion': ['gini', 'entropy']}\n",
    "\n",
    "# Running gridsearchCV to check for all the different PnCs of these parameter values\n",
    "cv_model = GridSearchCV(model, cv = 5,\n",
    "                     param_grid=param_dist, \n",
    "                     n_jobs = 3)\n",
    "\n",
    "#Fitting the train set , so that grid search is executed on this dataset\n",
    "cv_model.fit(X_train,y_train)\n",
    "\n",
    "#Printing the best parameters by using best_params\n",
    "print('Best Parameters using grid search: \\n', cv_model.best_params_)"
   ]
  },
  {
   "cell_type": "code",
   "execution_count": 100,
   "metadata": {},
   "outputs": [
    {
     "data": {
      "text/plain": [
       "DecisionTreeClassifier(criterion='entropy', max_depth=6, max_features='log2',\n",
       "                       random_state=0)"
      ]
     },
     "execution_count": 100,
     "metadata": {},
     "output_type": "execute_result"
    }
   ],
   "source": [
    "model.set_params(criterion = 'entropy',\n",
    "                  max_features = 'log2', \n",
    "                  max_depth = 6)"
   ]
  },
  {
   "cell_type": "code",
   "execution_count": 139,
   "metadata": {},
   "outputs": [
    {
     "name": "stdout",
     "output_type": "stream",
     "text": [
      "              precision    recall  f1-score   support\n",
      "\n",
      "           0       0.92      1.00      0.96      9461\n",
      "           1       0.33      0.00      0.00       827\n",
      "\n",
      "    accuracy                           0.92     10288\n",
      "   macro avg       0.63      0.50      0.48     10288\n",
      "weighted avg       0.87      0.92      0.88     10288\n",
      "\n",
      "Accuracy:  0.9194206842923794\n"
     ]
    },
    {
     "data": {
      "text/plain": [
       "0    10282\n",
       "1        6\n",
       "dtype: int64"
      ]
     },
     "execution_count": 139,
     "metadata": {},
     "output_type": "execute_result"
    }
   ],
   "source": [
    "model.fit(X_train,y_train)\n",
    "y_pred=model.predict(X_test)\n",
    "print(metrics.classification_report(y_test,y_pred))\n",
    "print('Accuracy: ', metrics.accuracy_score(y_test,y_pred))\n",
    "pd.Series(y_pred).value_counts()"
   ]
  },
  {
   "cell_type": "code",
   "execution_count": 103,
   "metadata": {},
   "outputs": [],
   "source": [
    "#Random forest model\n",
    "from sklearn.ensemble import RandomForestClassifier "
   ]
  },
  {
   "cell_type": "code",
   "execution_count": 104,
   "metadata": {},
   "outputs": [
    {
     "data": {
      "text/plain": [
       "<bound method BaseEstimator.get_params of RandomForestClassifier(random_state=0)>"
      ]
     },
     "execution_count": 104,
     "metadata": {},
     "output_type": "execute_result"
    }
   ],
   "source": [
    "fit_rf = RandomForestClassifier(random_state=0)\n",
    "fit_rf.get_params"
   ]
  },
  {
   "cell_type": "code",
   "execution_count": 105,
   "metadata": {},
   "outputs": [
    {
     "name": "stdout",
     "output_type": "stream",
     "text": [
      "Best Parameters using grid search: \n",
      " {'bootstrap': True, 'criterion': 'gini', 'max_depth': 4, 'max_features': None}\n"
     ]
    }
   ],
   "source": [
    "np.random.seed(0)\n",
    "# Providing the different values of hyperparameters\n",
    "param_dist = {'max_depth': [1,2, 3, 4],\n",
    "              'max_features': ['auto', 'sqrt', 'log2', None],\n",
    "                'bootstrap' : [True, False],\n",
    "              'criterion': ['gini', 'entropy']}\n",
    "\n",
    "# Running gridsearchCV to check for all the different PnCs of these parameter values\n",
    "cv_rf = GridSearchCV(fit_rf, cv = 10,\n",
    "                     param_grid=param_dist, \n",
    "                     n_jobs = 3)\n",
    "\n",
    "#Fitting the train set , so that grid search is executed on this dataset\n",
    "cv_rf.fit(X_train, y_train)\n",
    "\n",
    "#Printing the best parameters by using best_params\n",
    "print('Best Parameters using grid search: \\n', cv_rf.best_params_)"
   ]
  },
  {
   "cell_type": "code",
   "execution_count": 106,
   "metadata": {},
   "outputs": [
    {
     "data": {
      "text/plain": [
       "RandomForestClassifier(max_depth=4, max_features=None, random_state=0)"
      ]
     },
     "execution_count": 106,
     "metadata": {},
     "output_type": "execute_result"
    }
   ],
   "source": [
    "fit_rf.set_params(criterion = 'gini',\n",
    "                  max_features = None, \n",
    "                  bootstrap = True,\n",
    "                  max_depth = 4)"
   ]
  },
  {
   "cell_type": "code",
   "execution_count": 107,
   "metadata": {},
   "outputs": [],
   "source": [
    "#Finding the best number of trees for the least obb error\n",
    "fit_rf.set_params(oob_score=True)\n",
    "\n",
    "min_estimators = 15\n",
    "max_estimators = 1000\n",
    "\n",
    "error_rate = {}\n",
    "\n",
    "for i in range(min_estimators, max_estimators + 1):\n",
    "    fit_rf.set_params(n_estimators=i)     \n",
    "    fit_rf.fit(X_train,y_train)     \n",
    "\n",
    "    oob_error = 1 - fit_rf.oob_score_     \n",
    "    error_rate[i] = oob_error"
   ]
  },
  {
   "cell_type": "code",
   "execution_count": 141,
   "metadata": {},
   "outputs": [],
   "source": [
    "oob_series = pd.Series(error_rate)\n",
    "backup=oob_series"
   ]
  },
  {
   "cell_type": "code",
   "execution_count": 142,
   "metadata": {},
   "outputs": [
    {
     "data": {
      "text/plain": [
       "15      0.080987\n",
       "16      0.081236\n",
       "17      0.081111\n",
       "18      0.081445\n",
       "19      0.081570\n",
       "          ...   \n",
       "996     0.081153\n",
       "997     0.081153\n",
       "998     0.081153\n",
       "999     0.081153\n",
       "1000    0.081153\n",
       "Length: 986, dtype: float64"
      ]
     },
     "execution_count": 142,
     "metadata": {},
     "output_type": "execute_result"
    }
   ],
   "source": [
    "backup"
   ]
  },
  {
   "cell_type": "code",
   "execution_count": 143,
   "metadata": {},
   "outputs": [
    {
     "data": {
      "text/plain": [
       "Text(0.5, 1.0, 'OOB Error Rate Across various Forest sizes (From 15 to 1800 trees)')"
      ]
     },
     "execution_count": 143,
     "metadata": {},
     "output_type": "execute_result"
    },
    {
     "data": {
      "image/png": "[encoded data removed]",
      "text/plain": [
       "<Figure size 1008x720 with 1 Axes>"
      ]
     },
     "metadata": {
      "needs_background": "light"
     },
     "output_type": "display_data"
    }
   ],
   "source": [
    "#plotting obb vs number of decision trees\n",
    "fig, ax = plt.subplots(figsize=(14, 10))\n",
    "\n",
    "ax.set_facecolor('#fafafa')\n",
    "\n",
    "backup[:200].plot(kind='line',color = 'red')\n",
    "plt.axhline(0.08115, color='#875FDB',linestyle='--')\n",
    "plt.axhline(0.08116, color='#875FDB',linestyle='--')\n",
    "plt.axvline(80, color='#875FDB',linestyle='--')\n",
    "plt.xlabel('n_estimators (decision trees)')\n",
    "plt.ylabel('OOB Error Rate')\n",
    "plt.title('OOB Error Rate Across various Forest sizes (From 15 to 1800 trees)')"
   ]
  },
  {
   "cell_type": "code",
   "execution_count": 144,
   "metadata": {},
   "outputs": [
    {
     "name": "stdout",
     "output_type": "stream",
     "text": [
      "OOB Error rate for 80 trees is: 0.08115\n"
     ]
    }
   ],
   "source": [
    "print('OOB Error rate for 80 trees is: {0:.5f}'.format(backup[80]))"
   ]
  },
  {
   "cell_type": "code",
   "execution_count": 125,
   "metadata": {},
   "outputs": [
    {
     "data": {
      "text/plain": [
       "RandomForestClassifier(max_depth=4, max_features=None, n_estimators=80,\n",
       "                       random_state=0)"
      ]
     },
     "execution_count": 125,
     "metadata": {},
     "output_type": "execute_result"
    }
   ],
   "source": [
    "fit_rf.set_params(n_estimators=80,\n",
    "                  bootstrap = True,\n",
    "                  oob_score=False)"
   ]
  },
  {
   "cell_type": "code",
   "execution_count": 127,
   "metadata": {},
   "outputs": [
    {
     "data": {
      "text/plain": [
       "RandomForestClassifier(max_depth=4, max_features=None, n_estimators=80,\n",
       "                       random_state=0)"
      ]
     },
     "execution_count": 127,
     "metadata": {},
     "output_type": "execute_result"
    }
   ],
   "source": [
    "fit_rf.fit(X_train, y_train)"
   ]
  },
  {
   "cell_type": "code",
   "execution_count": 128,
   "metadata": {},
   "outputs": [],
   "source": [
    "#predicting the output\n",
    "predictions_rf = fit_rf.predict(X_test)"
   ]
  },
  {
   "cell_type": "code",
   "execution_count": 129,
   "metadata": {},
   "outputs": [
    {
     "name": "stdout",
     "output_type": "stream",
     "text": [
      "              precision    recall  f1-score   support\n",
      "\n",
      "           0       0.92      1.00      0.96      9461\n",
      "           1       0.00      0.00      0.00       827\n",
      "\n",
      "    accuracy                           0.92     10288\n",
      "   macro avg       0.46      0.50      0.48     10288\n",
      "weighted avg       0.85      0.92      0.88     10288\n",
      "\n",
      "Accuracy:  0.9196150855365475\n"
     ]
    }
   ],
   "source": [
    "print(metrics.classification_report(y_test,predictions_rf))\n",
    "print('Accuracy: ', metrics.accuracy_score(y_test,predictions_rf))"
   ]
  }
 ],
 "metadata": {
  "kernelspec": {
   "display_name": "Python 3 (ipykernel)",
   "language": "python",
   "name": "python3"
  },
  "language_info": {
   "codemirror_mode": {
    "name": "ipython",
    "version": 3
   },
   "file_extension": ".py",
   "mimetype": "text/x-python",
   "name": "python",
   "nbconvert_exporter": "python",
   "pygments_lexer": "ipython3",
   "version": "3.9.7"
  }
 },
 "nbformat": 4,
 "nbformat_minor": 4
}
